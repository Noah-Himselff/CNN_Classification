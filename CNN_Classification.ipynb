{
  "nbformat": 4,
  "nbformat_minor": 0,
  "metadata": {
    "colab": {
      "provenance": []
    },
    "kernelspec": {
      "name": "python3",
      "display_name": "Python 3"
    },
    "language_info": {
      "name": "python"
    }
  },
  "cells": [
    {
      "cell_type": "markdown",
      "source": [
        "A convolutional neural network classification on fashin mnist dataset,the final version will be uploaded soon"
      ],
      "metadata": {
        "id": "cN3oAGK8OEi0"
      }
    },
    {
      "cell_type": "code",
      "execution_count": null,
      "metadata": {
        "id": "fSYpQ-wmHTgt"
      },
      "outputs": [],
      "source": [
        "import numpy as np\n",
        "import pandas as pd\n",
        "from tensorflow import keras\n",
        "import tensorflow as tf\n",
        "from sklearn.model_selection import train_test_split\n",
        "import matplotlib.pyplot as plt"
      ]
    },
    {
      "cell_type": "code",
      "source": [
        "(x_train,y_train),(x_test,y_test)=keras.datasets.fashion_mnist.load_data()"
      ],
      "metadata": {
        "colab": {
          "base_uri": "https://localhost:8080/"
        },
        "id": "TJccPXvTHhXD",
        "outputId": "78c2fe59-a356-4bd2-b663-c3372d27fc30"
      },
      "execution_count": null,
      "outputs": [
        {
          "output_type": "stream",
          "name": "stdout",
          "text": [
            "Downloading data from https://storage.googleapis.com/tensorflow/tf-keras-datasets/train-labels-idx1-ubyte.gz\n",
            "29515/29515 [==============================] - 0s 1us/step\n",
            "Downloading data from https://storage.googleapis.com/tensorflow/tf-keras-datasets/train-images-idx3-ubyte.gz\n",
            "26421880/26421880 [==============================] - 2s 0us/step\n",
            "Downloading data from https://storage.googleapis.com/tensorflow/tf-keras-datasets/t10k-labels-idx1-ubyte.gz\n",
            "5148/5148 [==============================] - 0s 0us/step\n",
            "Downloading data from https://storage.googleapis.com/tensorflow/tf-keras-datasets/t10k-images-idx3-ubyte.gz\n",
            "4422102/4422102 [==============================] - 1s 0us/step\n"
          ]
        }
      ]
    },
    {
      "cell_type": "code",
      "source": [
        "x_train.shape"
      ],
      "metadata": {
        "colab": {
          "base_uri": "https://localhost:8080/"
        },
        "id": "S-Gid8h3Il1b",
        "outputId": "10099aed-d313-4e90-f8b8-6cc7789dbdfa"
      },
      "execution_count": null,
      "outputs": [
        {
          "output_type": "execute_result",
          "data": {
            "text/plain": [
              "(60000, 28, 28)"
            ]
          },
          "metadata": {},
          "execution_count": 5
        }
      ]
    },
    {
      "cell_type": "code",
      "source": [
        "plt.imshow(x_train[2,],cmap=\"gray\")"
      ],
      "metadata": {
        "colab": {
          "base_uri": "https://localhost:8080/",
          "height": 447
        },
        "id": "0zTJ6GK_I78I",
        "outputId": "dd2ddc89-da5f-4538-8c96-2ab365a50da7"
      },
      "execution_count": null,
      "outputs": [
        {
          "output_type": "execute_result",
          "data": {
            "text/plain": [
              "<matplotlib.image.AxesImage at 0x7f2d044087c0>"
            ]
          },
          "metadata": {},
          "execution_count": 6
        },
        {
          "output_type": "display_data",
          "data": {
            "text/plain": [
              "<Figure size 640x480 with 1 Axes>"
            ],
            "image/png": "[encoded data removed]"
          },
          "metadata": {}
        }
      ]
    },
    {
      "cell_type": "code",
      "source": [
        "y_train"
      ],
      "metadata": {
        "colab": {
          "base_uri": "https://localhost:8080/"
        },
        "id": "fQEPcCs4JdTe",
        "outputId": "ebb3edbe-4645-4f6c-b256-2d04c18bf233"
      },
      "execution_count": null,
      "outputs": [
        {
          "output_type": "execute_result",
          "data": {
            "text/plain": [
              "array([9, 0, 0, ..., 3, 0, 5], dtype=uint8)"
            ]
          },
          "metadata": {},
          "execution_count": 7
        }
      ]
    },
    {
      "cell_type": "code",
      "source": [
        "model.compile(\n",
        "    loss=\"sparse_categorical_crossentropy\",\n",
        "    optimizer=\"adamax\",\n",
        "    metrics=[\"accuracy\"]\n",
        "    )"
      ],
      "metadata": {
        "id": "1P9aXzM7MOrZ"
      },
      "execution_count": null,
      "outputs": []
    },
    {
      "cell_type": "code",
      "source": [
        "model69=keras.models.Sequential([\n",
        "    keras.layers.Conv2D(64,6,activation=\"selu\",padding=\"same\",input_shape=[28,28,1]),\n",
        "    keras.layers.MaxPooling2D(),\n",
        "    keras.layers.Conv2D(64,3,activation=\"selu\"),\n",
        "    keras.layers.MaxPooling2D(),\n",
        "    keras.layers.Conv2D(64,3,activation=\"selu\"),\n",
        "    keras.layers.MaxPooling2D(),\n",
        "    keras.layers.Flatten(),\n",
        "    keras.layers.Dense(500,activation=\"selu\"),\n",
        "    keras.layers.Dropout(0.2),\n",
        "    keras.layers.Dense(350,activation=\"selu\"),\n",
        "    keras.layers.Dropout(0.25),\n",
        "    keras.layers.Dense(225,activation=\"selu\"),\n",
        "    keras.layers.Dropout(0.3),\n",
        "    keras.layers.Dense(100,activation=\"selu\"),\n",
        "    keras.layers.Dropout(0.35),\n",
        "    keras.layers.Dense(10,activation=\"softmax\")\n",
        "\n",
        "\n",
        "])"
      ],
      "metadata": {
        "id": "-QTKBennVMwJ"
      },
      "execution_count": null,
      "outputs": []
    },
    {
      "cell_type": "code",
      "source": [
        "model69.compile(\n",
        "    loss=\"sparse_categorical_crossentropy\",\n",
        "    optimizer=\"adamax\",\n",
        "    metrics=[\"accuracy\"]\n",
        "    )"
      ],
      "metadata": {
        "id": "v8DGGsNYVSxU"
      },
      "execution_count": null,
      "outputs": []
    },
    {
      "cell_type": "code",
      "source": [
        "mod_res=model69.fit(x_train,y_train,epochs=30,batch_size=50,validation_split=0.2)"
      ],
      "metadata": {
        "colab": {
          "base_uri": "https://localhost:8080/"
        },
        "id": "5gdQvmTZVFP5",
        "outputId": "21250d03-bc87-47c9-924f-e42129b5858d"
      },
      "execution_count": null,
      "outputs": [
        {
          "output_type": "stream",
          "name": "stdout",
          "text": [
            "Epoch 1/30\n",
            "960/960 [==============================] - 161s 166ms/step - loss: 1.2379 - accuracy: 0.6840 - val_loss: 0.5294 - val_accuracy: 0.8238\n",
            "Epoch 2/30\n",
            "960/960 [==============================] - 148s 154ms/step - loss: 0.6568 - accuracy: 0.7962 - val_loss: 0.3901 - val_accuracy: 0.8643\n",
            "Epoch 3/30\n",
            "960/960 [==============================] - 147s 153ms/step - loss: 0.4930 - accuracy: 0.8359 - val_loss: 0.3411 - val_accuracy: 0.8761\n",
            "Epoch 4/30\n",
            "960/960 [==============================] - 145s 151ms/step - loss: 0.4113 - accuracy: 0.8596 - val_loss: 0.3637 - val_accuracy: 0.8728\n",
            "Epoch 5/30\n",
            "960/960 [==============================] - 145s 151ms/step - loss: 0.3544 - accuracy: 0.8760 - val_loss: 0.3050 - val_accuracy: 0.8899\n",
            "Epoch 6/30\n",
            "960/960 [==============================] - 146s 152ms/step - loss: 0.3144 - accuracy: 0.8892 - val_loss: 0.3029 - val_accuracy: 0.8888\n",
            "Epoch 7/30\n",
            "960/960 [==============================] - 146s 152ms/step - loss: 0.2856 - accuracy: 0.8991 - val_loss: 0.2882 - val_accuracy: 0.8925\n",
            "Epoch 8/30\n",
            "960/960 [==============================] - 146s 152ms/step - loss: 0.2619 - accuracy: 0.9066 - val_loss: 0.2699 - val_accuracy: 0.9014\n",
            "Epoch 9/30\n",
            "960/960 [==============================] - 147s 153ms/step - loss: 0.2423 - accuracy: 0.9124 - val_loss: 0.2514 - val_accuracy: 0.9087\n",
            "Epoch 10/30\n",
            "960/960 [==============================] - 143s 149ms/step - loss: 0.2278 - accuracy: 0.9183 - val_loss: 0.2615 - val_accuracy: 0.9056\n",
            "Epoch 11/30\n",
            "960/960 [==============================] - 143s 149ms/step - loss: 0.2064 - accuracy: 0.9239 - val_loss: 0.2557 - val_accuracy: 0.9120\n",
            "Epoch 12/30\n",
            "960/960 [==============================] - 144s 150ms/step - loss: 0.2002 - accuracy: 0.9275 - val_loss: 0.2528 - val_accuracy: 0.9127\n",
            "Epoch 13/30\n",
            "960/960 [==============================] - 145s 151ms/step - loss: 0.1703 - accuracy: 0.9377 - val_loss: 0.2739 - val_accuracy: 0.9146\n",
            "Epoch 15/30\n",
            "960/960 [==============================] - 145s 151ms/step - loss: 0.1640 - accuracy: 0.9414 - val_loss: 0.2728 - val_accuracy: 0.9154\n",
            "Epoch 16/30\n",
            "960/960 [==============================] - 145s 151ms/step - loss: 0.1509 - accuracy: 0.9447 - val_loss: 0.2873 - val_accuracy: 0.9144\n",
            "Epoch 17/30\n",
            "960/960 [==============================] - 143s 149ms/step - loss: 0.1428 - accuracy: 0.9477 - val_loss: 0.2714 - val_accuracy: 0.9193\n",
            "Epoch 18/30\n",
            "960/960 [==============================] - 145s 151ms/step - loss: 0.1377 - accuracy: 0.9495 - val_loss: 0.2772 - val_accuracy: 0.9137\n",
            "Epoch 19/30\n",
            "960/960 [==============================] - 144s 150ms/step - loss: 0.1264 - accuracy: 0.9535 - val_loss: 0.3033 - val_accuracy: 0.9154\n",
            "Epoch 20/30\n",
            "960/960 [==============================] - 143s 149ms/step - loss: 0.1180 - accuracy: 0.9563 - val_loss: 0.3073 - val_accuracy: 0.9145\n",
            "Epoch 21/30\n",
            "960/960 [==============================] - 143s 149ms/step - loss: 0.1112 - accuracy: 0.9584 - val_loss: 0.3121 - val_accuracy: 0.9154\n",
            "Epoch 22/30\n",
            "960/960 [==============================] - 141s 147ms/step - loss: 0.1075 - accuracy: 0.9598 - val_loss: 0.3157 - val_accuracy: 0.9165\n",
            "Epoch 23/30\n",
            "960/960 [==============================] - 145s 151ms/step - loss: 0.1031 - accuracy: 0.9629 - val_loss: 0.3158 - val_accuracy: 0.9173\n",
            "Epoch 24/30\n",
            "960/960 [==============================] - 144s 150ms/step - loss: 0.0953 - accuracy: 0.9640 - val_loss: 0.3605 - val_accuracy: 0.9134\n",
            "Epoch 25/30\n",
            "960/960 [==============================] - 141s 147ms/step - loss: 0.0895 - accuracy: 0.9669 - val_loss: 0.3550 - val_accuracy: 0.9110\n",
            "Epoch 26/30\n",
            "960/960 [==============================] - 142s 148ms/step - loss: 0.0877 - accuracy: 0.9686 - val_loss: 0.3670 - val_accuracy: 0.9108\n",
            "Epoch 27/30\n",
            "960/960 [==============================] - 142s 148ms/step - loss: 0.0800 - accuracy: 0.9708 - val_loss: 0.3640 - val_accuracy: 0.9168\n",
            "Epoch 28/30\n",
            "960/960 [==============================] - 142s 148ms/step - loss: 0.0748 - accuracy: 0.9727 - val_loss: 0.3949 - val_accuracy: 0.9148\n",
            "Epoch 29/30\n",
            "960/960 [==============================] - 144s 150ms/step - loss: 0.0718 - accuracy: 0.9741 - val_loss: 0.4263 - val_accuracy: 0.9147\n",
            "Epoch 30/30\n",
            "960/960 [==============================] - 144s 150ms/step - loss: 0.0674 - accuracy: 0.9750 - val_loss: 0.3990 - val_accuracy: 0.9154\n"
          ]
        }
      ]
    },
    {
      "cell_type": "code",
      "source": [
        "fig, ax = plt.subplots(figsize=(12, 5))\n",
        "ax.plot(mod_res.history[\"accuracy\"], label=\"train accuracy\")\n",
        "ax.plot(mod_res.history[\"val_accuracy\"], label=\"validation accuracy\")\n",
        "ax.legend()"
      ],
      "metadata": {
        "colab": {
          "base_uri": "https://localhost:8080/",
          "height": 462
        },
        "id": "A0f8VFmqKLf0",
        "outputId": "590aded4-e468-45ec-b0f1-7f7fcd12080b"
      },
      "execution_count": null,
      "outputs": [
        {
          "output_type": "execute_result",
          "data": {
            "text/plain": [
              "<matplotlib.legend.Legend at 0x7f2afacdb8e0>"
            ]
          },
          "metadata": {},
          "execution_count": 10
        },
        {
          "output_type": "display_data",
          "data": {
            "text/plain": [
              "<Figure size 1200x500 with 1 Axes>"
            ],
            "image/png": "[encoded data removed]"
          },
          "metadata": {}
        }
      ]
    }
  ]
}