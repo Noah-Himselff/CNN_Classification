{
  "nbformat": 4,
  "nbformat_minor": 0,
  "metadata": {
    "colab": {
      "provenance": []
    },
    "kernelspec": {
      "name": "python3",
      "display_name": "Python 3"
    },
    "language_info": {
      "name": "python"
    }
  },
  "cells": [
    {
      "cell_type": "markdown",
      "source": [
        "A convolutional neural network classification on fashin mnist dataset with 91.6% accuracy"
      ],
      "metadata": {
        "id": "cN3oAGK8OEi0"
      }
    },
    {
      "cell_type": "markdown",
      "source": [
        "1-importing the necessary libraries"
      ],
      "metadata": {
        "id": "lUvu1oqXFDI0"
      }
    },
    {
      "cell_type": "code",
      "execution_count": 1,
      "metadata": {
        "id": "fSYpQ-wmHTgt"
      },
      "outputs": [],
      "source": [
        "import numpy as np\n",
        "import pandas as pd\n",
        "from tensorflow import keras\n",
        "import tensorflow as tf\n",
        "from sklearn.model_selection import train_test_split\n",
        "import matplotlib.pyplot as plt"
      ]
    },
    {
      "cell_type": "code",
      "source": [
        "(x_train,y_train),(x_test,y_test)=keras.datasets.fashion_mnist.load_data()"
      ],
      "metadata": {
        "colab": {
          "base_uri": "https://localhost:8080/"
        },
        "id": "TJccPXvTHhXD",
        "outputId": "6ada2c3c-0aad-4dcc-cbd8-a3fdacb566e2"
      },
      "execution_count": 2,
      "outputs": [
        {
          "output_type": "stream",
          "name": "stdout",
          "text": [
            "Downloading data from https://storage.googleapis.com/tensorflow/tf-keras-datasets/train-labels-idx1-ubyte.gz\n",
            "29515/29515 [==============================] - 0s 0us/step\n",
            "Downloading data from https://storage.googleapis.com/tensorflow/tf-keras-datasets/train-images-idx3-ubyte.gz\n",
            "26421880/26421880 [==============================] - 0s 0us/step\n",
            "Downloading data from https://storage.googleapis.com/tensorflow/tf-keras-datasets/t10k-labels-idx1-ubyte.gz\n",
            "5148/5148 [==============================] - 0s 0us/step\n",
            "Downloading data from https://storage.googleapis.com/tensorflow/tf-keras-datasets/t10k-images-idx3-ubyte.gz\n",
            "4422102/4422102 [==============================] - 0s 0us/step\n"
          ]
        }
      ]
    },
    {
      "cell_type": "code",
      "source": [
        "#determining the shape of train and test dataset\n",
        "print(x_train.shape)\n",
        "print(x_test.shape)"
      ],
      "metadata": {
        "colab": {
          "base_uri": "https://localhost:8080/"
        },
        "id": "S-Gid8h3Il1b",
        "outputId": "b03cf163-c5e5-46ad-cbb2-c3b0ffa3d12d"
      },
      "execution_count": 17,
      "outputs": [
        {
          "output_type": "stream",
          "name": "stdout",
          "text": [
            "(60000, 28, 28)\n",
            "(10000, 28, 28)\n"
          ]
        }
      ]
    },
    {
      "cell_type": "code",
      "source": [
        "plt.imshow(x_train[3,],cmap=\"gray\")"
      ],
      "metadata": {
        "colab": {
          "base_uri": "https://localhost:8080/",
          "height": 447
        },
        "id": "0zTJ6GK_I78I",
        "outputId": "e0756627-acf9-4b53-fda1-3c1ca4bc8c19"
      },
      "execution_count": 16,
      "outputs": [
        {
          "output_type": "execute_result",
          "data": {
            "text/plain": [
              "<matplotlib.image.AxesImage at 0x7f6bc3451670>"
            ]
          },
          "metadata": {},
          "execution_count": 16
        },
        {
          "output_type": "display_data",
          "data": {
            "text/plain": [
              "<Figure size 640x480 with 1 Axes>"
            ],
            "image/png": "[encoded data removed]"
          },
          "metadata": {}
        }
      ]
    },
    {
      "cell_type": "code",
      "source": [
        "y_train\n",
        "#this shows that our dataset has 10 different classes"
      ],
      "metadata": {
        "colab": {
          "base_uri": "https://localhost:8080/"
        },
        "id": "fQEPcCs4JdTe",
        "outputId": "ddbdb5ea-5e48-4280-dff7-16031bbc9036"
      },
      "execution_count": 5,
      "outputs": [
        {
          "output_type": "execute_result",
          "data": {
            "text/plain": [
              "array([9, 0, 0, ..., 3, 0, 5], dtype=uint8)"
            ]
          },
          "metadata": {},
          "execution_count": 5
        }
      ]
    },
    {
      "cell_type": "markdown",
      "source": [
        "2-Starting the model creation"
      ],
      "metadata": {
        "id": "8IlStlEeF9dU"
      }
    },
    {
      "cell_type": "code",
      "source": [
        "#on my previous code i used add function and added the layers one by one so i thought i use a different method this time in creating the Sequential model\n",
        "#The Conv2D layer performs a convolution operation on the input data by sliding each filter over the input data spatially\n",
        "#computing the dot product between the filter weights and the corresponding input pixel values at each position\n",
        "#This produces a feature map that highlights certain patterns or features in the input data. Multiple filters can be applied to the same input data\n",
        "#resulting in multiple feature maps that capture different aspects of the input.\n",
        "#Conv2D(64,6,activation,input_shape),from left to right,64 is the number of filters used,6 is the size of the filter,Selu is the used activation function for its overall perfromance\n",
        "#padding is a function that helps either reducing the size of the feature map(padding=\"valid\"),or making sure it has the same spatial dimension(padding=\"same\"),and input shape is the shape of data\n",
        "model=keras.models.Sequential([\n",
        "    keras.layers.Conv2D(64,6,activation=\"selu\",padding=\"same\",input_shape=[28,28,1]),\n",
        "    keras.layers.MaxPooling2D(),\n",
        "    keras.layers.Conv2D(64,3,activation=\"selu\"),\n",
        "    keras.layers.MaxPooling2D(),\n",
        "    keras.layers.Conv2D(64,3,activation=\"selu\"),\n",
        "    keras.layers.MaxPooling2D(),\n",
        "    keras.layers.Flatten(),\n",
        "    keras.layers.Dense(500,activation=\"selu\"),\n",
        "    keras.layers.Dropout(0.2),\n",
        "    keras.layers.Dense(350,activation=\"selu\"),\n",
        "    keras.layers.Dropout(0.25),\n",
        "    keras.layers.Dense(225,activation=\"selu\"),\n",
        "    keras.layers.Dropout(0.3),\n",
        "    keras.layers.Dense(100,activation=\"selu\"),\n",
        "    keras.layers.Dropout(0.35),\n",
        "    keras.layers.Dense(10,activation=\"softmax\")\n",
        "\n",
        "\n",
        "])"
      ],
      "metadata": {
        "id": "-QTKBennVMwJ"
      },
      "execution_count": 11,
      "outputs": []
    },
    {
      "cell_type": "code",
      "source": [
        "#over the course of this project i've found out that slightly increasing the LR from 0.001 to 0.005 helps the stability of network and reduces overfitting to an extent\n",
        "tuned_adamax=tf.keras.optimizers.Adamax(learning_rate=0.005)"
      ],
      "metadata": {
        "id": "kRbyjWwhe2qn"
      },
      "execution_count": 12,
      "outputs": []
    },
    {
      "cell_type": "code",
      "source": [
        "model.compile(\n",
        "    loss=\"sparse_categorical_crossentropy\",\n",
        "    optimizer=tuned_adamax,\n",
        "    metrics=[\"accuracy\"]\n",
        "    )"
      ],
      "metadata": {
        "id": "v8DGGsNYVSxU"
      },
      "execution_count": 13,
      "outputs": []
    },
    {
      "cell_type": "code",
      "source": [
        "mod_res=model.fit(x_train,y_train,epochs=30,batch_size=50,validation_split=0.2)"
      ],
      "metadata": {
        "colab": {
          "base_uri": "https://localhost:8080/"
        },
        "id": "5gdQvmTZVFP5",
        "outputId": "4f61150b-64c0-4892-dee6-ca0de9d96b11"
      },
      "execution_count": 14,
      "outputs": [
        {
          "output_type": "stream",
          "name": "stdout",
          "text": [
            "Epoch 1/30\n",
            "960/960 [==============================] - 150s 154ms/step - loss: 1.0839 - accuracy: 0.6994 - val_loss: 0.4558 - val_accuracy: 0.8382\n",
            "Epoch 2/30\n",
            "960/960 [==============================] - 146s 152ms/step - loss: 0.5152 - accuracy: 0.8253 - val_loss: 0.3761 - val_accuracy: 0.8602\n",
            "Epoch 3/30\n",
            "960/960 [==============================] - 151s 157ms/step - loss: 0.4246 - accuracy: 0.8518 - val_loss: 0.3596 - val_accuracy: 0.8705\n",
            "Epoch 4/30\n",
            "960/960 [==============================] - 153s 159ms/step - loss: 0.3683 - accuracy: 0.8703 - val_loss: 0.3179 - val_accuracy: 0.8864\n",
            "Epoch 5/30\n",
            "960/960 [==============================] - 146s 152ms/step - loss: 0.3428 - accuracy: 0.8806 - val_loss: 0.3151 - val_accuracy: 0.8808\n",
            "Epoch 6/30\n",
            "960/960 [==============================] - 143s 149ms/step - loss: 0.3212 - accuracy: 0.8866 - val_loss: 0.3079 - val_accuracy: 0.8934\n",
            "Epoch 7/30\n",
            "960/960 [==============================] - 146s 152ms/step - loss: 0.3020 - accuracy: 0.8943 - val_loss: 0.3152 - val_accuracy: 0.8917\n",
            "Epoch 8/30\n",
            "960/960 [==============================] - 143s 149ms/step - loss: 0.2818 - accuracy: 0.9020 - val_loss: 0.2992 - val_accuracy: 0.8905\n",
            "Epoch 9/30\n",
            "960/960 [==============================] - 143s 149ms/step - loss: 0.2781 - accuracy: 0.9027 - val_loss: 0.2988 - val_accuracy: 0.8930\n",
            "Epoch 10/30\n",
            "960/960 [==============================] - 143s 150ms/step - loss: 0.2523 - accuracy: 0.9129 - val_loss: 0.2736 - val_accuracy: 0.9057\n",
            "Epoch 11/30\n",
            "960/960 [==============================] - 141s 147ms/step - loss: 0.2321 - accuracy: 0.9201 - val_loss: 0.2874 - val_accuracy: 0.9035\n",
            "Epoch 12/30\n",
            "960/960 [==============================] - 141s 147ms/step - loss: 0.2314 - accuracy: 0.9221 - val_loss: 0.2760 - val_accuracy: 0.9051\n",
            "Epoch 13/30\n",
            "960/960 [==============================] - 142s 148ms/step - loss: 0.2120 - accuracy: 0.9252 - val_loss: 0.2695 - val_accuracy: 0.9097\n",
            "Epoch 14/30\n",
            "960/960 [==============================] - 142s 148ms/step - loss: 0.2196 - accuracy: 0.9242 - val_loss: 0.3197 - val_accuracy: 0.9059\n",
            "Epoch 15/30\n",
            "960/960 [==============================] - 143s 149ms/step - loss: 0.2197 - accuracy: 0.9243 - val_loss: 0.3193 - val_accuracy: 0.9024\n",
            "Epoch 16/30\n",
            "960/960 [==============================] - 143s 149ms/step - loss: 0.2055 - accuracy: 0.9291 - val_loss: 0.3006 - val_accuracy: 0.9038\n",
            "Epoch 17/30\n",
            "960/960 [==============================] - 143s 149ms/step - loss: 0.1930 - accuracy: 0.9334 - val_loss: 0.3015 - val_accuracy: 0.9142\n",
            "Epoch 18/30\n",
            "960/960 [==============================] - 141s 147ms/step - loss: 0.1917 - accuracy: 0.9341 - val_loss: 0.3513 - val_accuracy: 0.9084\n",
            "Epoch 19/30\n",
            "960/960 [==============================] - 143s 148ms/step - loss: 0.1942 - accuracy: 0.9332 - val_loss: 0.2982 - val_accuracy: 0.9088\n",
            "Epoch 20/30\n",
            "960/960 [==============================] - 143s 149ms/step - loss: 0.1797 - accuracy: 0.9382 - val_loss: 0.3169 - val_accuracy: 0.9118\n",
            "Epoch 21/30\n",
            "960/960 [==============================] - 143s 149ms/step - loss: 0.1856 - accuracy: 0.9361 - val_loss: 0.3119 - val_accuracy: 0.9064\n",
            "Epoch 22/30\n",
            "960/960 [==============================] - 141s 147ms/step - loss: 0.1727 - accuracy: 0.9406 - val_loss: 0.3100 - val_accuracy: 0.9137\n",
            "Epoch 23/30\n",
            "960/960 [==============================] - 143s 149ms/step - loss: 0.1695 - accuracy: 0.9412 - val_loss: 0.3926 - val_accuracy: 0.9112\n",
            "Epoch 24/30\n",
            "960/960 [==============================] - 143s 149ms/step - loss: 0.1775 - accuracy: 0.9410 - val_loss: 0.3394 - val_accuracy: 0.9158\n",
            "Epoch 25/30\n",
            "960/960 [==============================] - 140s 146ms/step - loss: 0.1696 - accuracy: 0.9464 - val_loss: 0.2971 - val_accuracy: 0.9107\n",
            "Epoch 26/30\n",
            "960/960 [==============================] - 143s 149ms/step - loss: 0.1542 - accuracy: 0.9456 - val_loss: 0.3738 - val_accuracy: 0.9134\n",
            "Epoch 27/30\n",
            "960/960 [==============================] - 142s 148ms/step - loss: 0.1441 - accuracy: 0.9517 - val_loss: 0.3237 - val_accuracy: 0.9158\n",
            "Epoch 28/30\n",
            "960/960 [==============================] - 141s 147ms/step - loss: 0.1513 - accuracy: 0.9500 - val_loss: 0.3206 - val_accuracy: 0.9136\n",
            "Epoch 29/30\n",
            "960/960 [==============================] - 141s 147ms/step - loss: 0.1433 - accuracy: 0.9506 - val_loss: 0.3566 - val_accuracy: 0.9130\n",
            "Epoch 30/30\n",
            "960/960 [==============================] - 143s 149ms/step - loss: 0.1475 - accuracy: 0.9485 - val_loss: 0.3742 - val_accuracy: 0.9160\n"
          ]
        }
      ]
    },
    {
      "cell_type": "markdown",
      "source": [
        "3-Outcome"
      ],
      "metadata": {
        "id": "xBTaai8BKp_o"
      }
    },
    {
      "cell_type": "code",
      "source": [
        "fig, ax = plt.subplots(figsize=(12, 5))\n",
        "ax.plot(mod_res.history[\"accuracy\"], label=\"train accuracy\")\n",
        "ax.plot(mod_res.history[\"val_accuracy\"], label=\"validation accuracy\")\n",
        "ax.legend()"
      ],
      "metadata": {
        "colab": {
          "base_uri": "https://localhost:8080/",
          "height": 462
        },
        "id": "A0f8VFmqKLf0",
        "outputId": "54f17ac5-1c70-4d29-b586-3c015544fbb3"
      },
      "execution_count": 15,
      "outputs": [
        {
          "output_type": "execute_result",
          "data": {
            "text/plain": [
              "<matplotlib.legend.Legend at 0x7f6bc3485d30>"
            ]
          },
          "metadata": {},
          "execution_count": 15
        },
        {
          "output_type": "display_data",
          "data": {
            "text/plain": [
              "<Figure size 1200x500 with 1 Axes>"
            ],
            "image/png": "[encoded data removed]"
          },
          "metadata": {}
        }
      ]
    },
    {
      "cell_type": "code",
      "source": [
        "model.evaluate(x_test, y_test, verbose=0)\n"
      ],
      "metadata": {
        "colab": {
          "base_uri": "https://localhost:8080/"
        },
        "id": "4kEAg73hKuRv",
        "outputId": "11b1d2b6-3922-4feb-fd48-f77121ffcfc0"
      },
      "execution_count": 19,
      "outputs": [
        {
          "output_type": "execute_result",
          "data": {
            "text/plain": [
              "[0.4092801511287689, 0.9093999862670898]"
            ]
          },
          "metadata": {},
          "execution_count": 19
        }
      ]
    }
  ]
}